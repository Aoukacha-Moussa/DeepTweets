{
 "cells": [
  {
   "cell_type": "code",
   "execution_count": 146,
   "metadata": {},
   "outputs": [],
   "source": [
    "import pandas as pd\n",
    "import numpy as np\n",
    "import matplotlib.pyplot as plt\n",
    "import seaborn as sns\n",
    "from sklearn.model_selection import train_test_split\n",
    "from sklearn.linear_model import LogisticRegression\n",
    "from sklearn.feature_extraction.text import TfidfVectorizer\n",
    "from sklearn.linear_model import LogisticRegression\n",
    "from sklearn.metrics import accuracy_score\n",
    "from sklearn.pipeline import Pipeline\n",
    "from sklearn.model_selection import GridSearchCV\n",
    "import nltk\n",
    "from nltk.corpus import stopwords\n",
    "import re\n",
    "from nltk.stem import PorterStemmer\n",
    "from sklearn.feature_extraction.text import TfidfVectorizer"
   ]
  },
  {
   "cell_type": "markdown",
   "metadata": {},
   "source": [
    "## Import Data"
   ]
  },
  {
   "cell_type": "code",
   "execution_count": 147,
   "metadata": {},
   "outputs": [],
   "source": [
    "train = pd.read_csv('C:/Users/Moussa/Desktop/github/deeptweets/train.csv')\n",
    "test = pd.read_csv('C:/Users/Moussa/Desktop/github/deeptweets/test.csv')"
   ]
  },
  {
   "cell_type": "code",
   "execution_count": 148,
   "metadata": {},
   "outputs": [
    {
     "data": {
      "text/html": [
       "<div>\n",
       "<style scoped>\n",
       "    .dataframe tbody tr th:only-of-type {\n",
       "        vertical-align: middle;\n",
       "    }\n",
       "\n",
       "    .dataframe tbody tr th {\n",
       "        vertical-align: top;\n",
       "    }\n",
       "\n",
       "    .dataframe thead th {\n",
       "        text-align: right;\n",
       "    }\n",
       "</style>\n",
       "<table border=\"1\" class=\"dataframe\">\n",
       "  <thead>\n",
       "    <tr style=\"text-align: right;\">\n",
       "      <th></th>\n",
       "      <th>TweetId</th>\n",
       "      <th>Label</th>\n",
       "      <th>TweetText</th>\n",
       "    </tr>\n",
       "  </thead>\n",
       "  <tbody>\n",
       "    <tr>\n",
       "      <th>0</th>\n",
       "      <td>304271250237304833</td>\n",
       "      <td>Politics</td>\n",
       "      <td>'#SecKerry: The value of the @StateDept and @U...</td>\n",
       "    </tr>\n",
       "    <tr>\n",
       "      <th>1</th>\n",
       "      <td>304834304222064640</td>\n",
       "      <td>Politics</td>\n",
       "      <td>'@rraina1481 I fear so'</td>\n",
       "    </tr>\n",
       "    <tr>\n",
       "      <th>2</th>\n",
       "      <td>303568995880144898</td>\n",
       "      <td>Sports</td>\n",
       "      <td>'Watch video highlights of the #wwc13 final be...</td>\n",
       "    </tr>\n",
       "    <tr>\n",
       "      <th>3</th>\n",
       "      <td>304366580664528896</td>\n",
       "      <td>Sports</td>\n",
       "      <td>'RT @chelscanlan: At Nitro Circus at #AlbertPa...</td>\n",
       "    </tr>\n",
       "    <tr>\n",
       "      <th>4</th>\n",
       "      <td>296770931098009601</td>\n",
       "      <td>Sports</td>\n",
       "      <td>'@cricketfox Always a good thing. Thanks for t...</td>\n",
       "    </tr>\n",
       "  </tbody>\n",
       "</table>\n",
       "</div>"
      ],
      "text/plain": [
       "              TweetId     Label  \\\n",
       "0  304271250237304833  Politics   \n",
       "1  304834304222064640  Politics   \n",
       "2  303568995880144898    Sports   \n",
       "3  304366580664528896    Sports   \n",
       "4  296770931098009601    Sports   \n",
       "\n",
       "                                           TweetText  \n",
       "0  '#SecKerry: The value of the @StateDept and @U...  \n",
       "1                            '@rraina1481 I fear so'  \n",
       "2  'Watch video highlights of the #wwc13 final be...  \n",
       "3  'RT @chelscanlan: At Nitro Circus at #AlbertPa...  \n",
       "4  '@cricketfox Always a good thing. Thanks for t...  "
      ]
     },
     "execution_count": 148,
     "metadata": {},
     "output_type": "execute_result"
    }
   ],
   "source": [
    "train.head()"
   ]
  },
  {
   "cell_type": "code",
   "execution_count": 149,
   "metadata": {},
   "outputs": [
    {
     "data": {
      "text/html": [
       "<div>\n",
       "<style scoped>\n",
       "    .dataframe tbody tr th:only-of-type {\n",
       "        vertical-align: middle;\n",
       "    }\n",
       "\n",
       "    .dataframe tbody tr th {\n",
       "        vertical-align: top;\n",
       "    }\n",
       "\n",
       "    .dataframe thead th {\n",
       "        text-align: right;\n",
       "    }\n",
       "</style>\n",
       "<table border=\"1\" class=\"dataframe\">\n",
       "  <thead>\n",
       "    <tr style=\"text-align: right;\">\n",
       "      <th></th>\n",
       "      <th>TweetId</th>\n",
       "      <th>TweetText</th>\n",
       "    </tr>\n",
       "  </thead>\n",
       "  <tbody>\n",
       "    <tr>\n",
       "      <th>0</th>\n",
       "      <td>306486520121012224</td>\n",
       "      <td>'28. The home side threaten again through Maso...</td>\n",
       "    </tr>\n",
       "    <tr>\n",
       "      <th>1</th>\n",
       "      <td>286353402605228032</td>\n",
       "      <td>'@mrbrown @aulia Thx for asking. See http://t....</td>\n",
       "    </tr>\n",
       "    <tr>\n",
       "      <th>2</th>\n",
       "      <td>289531046037438464</td>\n",
       "      <td>'@Sochi2014 construction along the shores of t...</td>\n",
       "    </tr>\n",
       "    <tr>\n",
       "      <th>3</th>\n",
       "      <td>306451661403062273</td>\n",
       "      <td>'#SecKerry\\u2019s remarks after meeting with F...</td>\n",
       "    </tr>\n",
       "    <tr>\n",
       "      <th>4</th>\n",
       "      <td>297941800658812928</td>\n",
       "      <td>'The #IPLauction has begun. Ricky Ponting is t...</td>\n",
       "    </tr>\n",
       "  </tbody>\n",
       "</table>\n",
       "</div>"
      ],
      "text/plain": [
       "              TweetId                                          TweetText\n",
       "0  306486520121012224  '28. The home side threaten again through Maso...\n",
       "1  286353402605228032  '@mrbrown @aulia Thx for asking. See http://t....\n",
       "2  289531046037438464  '@Sochi2014 construction along the shores of t...\n",
       "3  306451661403062273  '#SecKerry\\u2019s remarks after meeting with F...\n",
       "4  297941800658812928  'The #IPLauction has begun. Ricky Ponting is t..."
      ]
     },
     "execution_count": 149,
     "metadata": {},
     "output_type": "execute_result"
    }
   ],
   "source": [
    "test.head()"
   ]
  },
  {
   "cell_type": "markdown",
   "metadata": {},
   "source": [
    "## Text Cleaning and Preprocessing"
   ]
  },
  {
   "cell_type": "code",
   "execution_count": 150,
   "metadata": {},
   "outputs": [
    {
     "data": {
      "text/html": [
       "<div>\n",
       "<style scoped>\n",
       "    .dataframe tbody tr th:only-of-type {\n",
       "        vertical-align: middle;\n",
       "    }\n",
       "\n",
       "    .dataframe tbody tr th {\n",
       "        vertical-align: top;\n",
       "    }\n",
       "\n",
       "    .dataframe thead th {\n",
       "        text-align: right;\n",
       "    }\n",
       "</style>\n",
       "<table border=\"1\" class=\"dataframe\">\n",
       "  <thead>\n",
       "    <tr style=\"text-align: right;\">\n",
       "      <th></th>\n",
       "      <th>TweetText</th>\n",
       "      <th>cleaned_tweet</th>\n",
       "    </tr>\n",
       "  </thead>\n",
       "  <tbody>\n",
       "    <tr>\n",
       "      <th>0</th>\n",
       "      <td>'#SecKerry: The value of the @StateDept and @U...</td>\n",
       "      <td>#seckerry the value of the @statedept and @usa...</td>\n",
       "    </tr>\n",
       "    <tr>\n",
       "      <th>1</th>\n",
       "      <td>'@rraina1481 I fear so'</td>\n",
       "      <td>@rraina1481 i fear so</td>\n",
       "    </tr>\n",
       "    <tr>\n",
       "      <th>2</th>\n",
       "      <td>'Watch video highlights of the #wwc13 final be...</td>\n",
       "      <td>watch video highlights of the #wwc13 final bet...</td>\n",
       "    </tr>\n",
       "    <tr>\n",
       "      <th>3</th>\n",
       "      <td>'RT @chelscanlan: At Nitro Circus at #AlbertPa...</td>\n",
       "      <td>rt @chelscanlan at nitro circus at #albertpark...</td>\n",
       "    </tr>\n",
       "    <tr>\n",
       "      <th>4</th>\n",
       "      <td>'@cricketfox Always a good thing. Thanks for t...</td>\n",
       "      <td>@cricketfox always a good thing thanks for the...</td>\n",
       "    </tr>\n",
       "  </tbody>\n",
       "</table>\n",
       "</div>"
      ],
      "text/plain": [
       "                                           TweetText  \\\n",
       "0  '#SecKerry: The value of the @StateDept and @U...   \n",
       "1                            '@rraina1481 I fear so'   \n",
       "2  'Watch video highlights of the #wwc13 final be...   \n",
       "3  'RT @chelscanlan: At Nitro Circus at #AlbertPa...   \n",
       "4  '@cricketfox Always a good thing. Thanks for t...   \n",
       "\n",
       "                                       cleaned_tweet  \n",
       "0  #seckerry the value of the @statedept and @usa...  \n",
       "1                              @rraina1481 i fear so  \n",
       "2  watch video highlights of the #wwc13 final bet...  \n",
       "3  rt @chelscanlan at nitro circus at #albertpark...  \n",
       "4  @cricketfox always a good thing thanks for the...  "
      ]
     },
     "execution_count": 150,
     "metadata": {},
     "output_type": "execute_result"
    }
   ],
   "source": [
    "class TweetCleaner:\n",
    "    def fit(self, X, y=None):\n",
    "        return self  \n",
    "\n",
    "    def transform(self, X):\n",
    "        return [self._clean(tweet) for tweet in X]\n",
    "\n",
    "    def _clean(self, tweet):\n",
    "        tweet = self.clean_tweet(tweet)\n",
    "        tweet = self.remove_urls(tweet)\n",
    "        tweet = self.lowercase_tweet(tweet)\n",
    "        return tweet\n",
    "    \n",
    "    def clean_tweet(self,tweet):\n",
    "        cleaned_tweet = re.sub(r\"[^\\w\\s#@]\", \"\", tweet)\n",
    "        return cleaned_tweet\n",
    "    def remove_urls(self,tweet):\n",
    "        cleaned_tweet = re.sub(r\"http\\S+|www\\S+|pic.twitter.com\\S+\", \"\", tweet)\n",
    "        return cleaned_tweet.strip()\n",
    "    def lowercase_tweet(self,tweet):\n",
    "        lowercase_text = tweet.lower()\n",
    "        return lowercase_text\n",
    "\n",
    "train['cleaned_tweet'] = train['TweetText'].apply(TweetCleaner().clean_tweet)\n",
    "train['cleaned_tweet'] = train['cleaned_tweet'].apply(TweetCleaner().remove_urls)\n",
    "train['cleaned_tweet'] = train['cleaned_tweet'].apply(TweetCleaner().lowercase_tweet)\n",
    "train[['TweetText', 'cleaned_tweet']].head()"
   ]
  },
  {
   "cell_type": "markdown",
   "metadata": {},
   "source": [
    "## Tokenization"
   ]
  },
  {
   "cell_type": "code",
   "execution_count": 151,
   "metadata": {},
   "outputs": [
    {
     "data": {
      "text/html": [
       "<div>\n",
       "<style scoped>\n",
       "    .dataframe tbody tr th:only-of-type {\n",
       "        vertical-align: middle;\n",
       "    }\n",
       "\n",
       "    .dataframe tbody tr th {\n",
       "        vertical-align: top;\n",
       "    }\n",
       "\n",
       "    .dataframe thead th {\n",
       "        text-align: right;\n",
       "    }\n",
       "</style>\n",
       "<table border=\"1\" class=\"dataframe\">\n",
       "  <thead>\n",
       "    <tr style=\"text-align: right;\">\n",
       "      <th></th>\n",
       "      <th>TweetText</th>\n",
       "      <th>tokens</th>\n",
       "    </tr>\n",
       "  </thead>\n",
       "  <tbody>\n",
       "    <tr>\n",
       "      <th>0</th>\n",
       "      <td>'#SecKerry: The value of the @StateDept and @U...</td>\n",
       "      <td>[#seckerry, the, value, of, the, @statedept, a...</td>\n",
       "    </tr>\n",
       "    <tr>\n",
       "      <th>1</th>\n",
       "      <td>'@rraina1481 I fear so'</td>\n",
       "      <td>[@rraina1481, i, fear, so]</td>\n",
       "    </tr>\n",
       "    <tr>\n",
       "      <th>2</th>\n",
       "      <td>'Watch video highlights of the #wwc13 final be...</td>\n",
       "      <td>[watch, video, highlights, of, the, #wwc13, fi...</td>\n",
       "    </tr>\n",
       "    <tr>\n",
       "      <th>3</th>\n",
       "      <td>'RT @chelscanlan: At Nitro Circus at #AlbertPa...</td>\n",
       "      <td>[rt, @chelscanlan, at, nitro, circus, at, #alb...</td>\n",
       "    </tr>\n",
       "    <tr>\n",
       "      <th>4</th>\n",
       "      <td>'@cricketfox Always a good thing. Thanks for t...</td>\n",
       "      <td>[@cricketfox, always, a, good, thing, thanks, ...</td>\n",
       "    </tr>\n",
       "  </tbody>\n",
       "</table>\n",
       "</div>"
      ],
      "text/plain": [
       "                                           TweetText  \\\n",
       "0  '#SecKerry: The value of the @StateDept and @U...   \n",
       "1                            '@rraina1481 I fear so'   \n",
       "2  'Watch video highlights of the #wwc13 final be...   \n",
       "3  'RT @chelscanlan: At Nitro Circus at #AlbertPa...   \n",
       "4  '@cricketfox Always a good thing. Thanks for t...   \n",
       "\n",
       "                                              tokens  \n",
       "0  [#seckerry, the, value, of, the, @statedept, a...  \n",
       "1                         [@rraina1481, i, fear, so]  \n",
       "2  [watch, video, highlights, of, the, #wwc13, fi...  \n",
       "3  [rt, @chelscanlan, at, nitro, circus, at, #alb...  \n",
       "4  [@cricketfox, always, a, good, thing, thanks, ...  "
      ]
     },
     "execution_count": 151,
     "metadata": {},
     "output_type": "execute_result"
    }
   ],
   "source": [
    "class TweetTokenizer:\n",
    "    def fit(self, X, y=None):\n",
    "        return self  \n",
    "\n",
    "    def transform(self, X):\n",
    "        return [self._tokens(tweet) for tweet in X]\n",
    "\n",
    "    def _tokens(self, tweet):\n",
    "        tokens = self.tokenize_tweet(tweet)\n",
    "        return tokens\n",
    "    def tokenize_tweet(self, tweet):\n",
    "        tokens = tweet.split()\n",
    "        return tokens\n",
    "\n",
    "train['tokens'] = train['cleaned_tweet'].apply(TweetTokenizer().tokenize_tweet)\n",
    "train[['TweetText', 'tokens']].head()"
   ]
  },
  {
   "cell_type": "markdown",
   "metadata": {},
   "source": [
    "## Stopword Removal"
   ]
  },
  {
   "cell_type": "code",
   "execution_count": 152,
   "metadata": {},
   "outputs": [],
   "source": [
    "stop_words = stopwords.words(\"english\")\n",
    "class TweetStopwordRemover:\n",
    "  def fit(self, X, y=None):\n",
    "        return self  \n",
    "\n",
    "  def transform(self, X):\n",
    "        return [self._stopwords(tweet) for tweet in X]\n",
    "\n",
    "  def _stopwords(self, tweet):\n",
    "      stopwords = self.remove_stopwords(tweet)\n",
    "      return stopwords\n",
    "  def remove_stopwords(self, text):\n",
    "    text = text.lower() \n",
    "    text = \"\".join([char for char in text if char.isalnum() or char == \" \"])\n",
    "    words = [w for w in text.split() if w not in stop_words]  \n",
    "    return \" \".join(words)"
   ]
  },
  {
   "cell_type": "code",
   "execution_count": 153,
   "metadata": {},
   "outputs": [
    {
     "data": {
      "text/html": [
       "<div>\n",
       "<style scoped>\n",
       "    .dataframe tbody tr th:only-of-type {\n",
       "        vertical-align: middle;\n",
       "    }\n",
       "\n",
       "    .dataframe tbody tr th {\n",
       "        vertical-align: top;\n",
       "    }\n",
       "\n",
       "    .dataframe thead th {\n",
       "        text-align: right;\n",
       "    }\n",
       "</style>\n",
       "<table border=\"1\" class=\"dataframe\">\n",
       "  <thead>\n",
       "    <tr style=\"text-align: right;\">\n",
       "      <th></th>\n",
       "      <th>TweetText</th>\n",
       "      <th>FilteredTweet</th>\n",
       "    </tr>\n",
       "  </thead>\n",
       "  <tbody>\n",
       "    <tr>\n",
       "      <th>0</th>\n",
       "      <td>'#SecKerry: The value of the @StateDept and @U...</td>\n",
       "      <td>seckerry value statedept usaid measured dollar...</td>\n",
       "    </tr>\n",
       "    <tr>\n",
       "      <th>1</th>\n",
       "      <td>'@rraina1481 I fear so'</td>\n",
       "      <td>rraina1481 fear</td>\n",
       "    </tr>\n",
       "    <tr>\n",
       "      <th>2</th>\n",
       "      <td>'Watch video highlights of the #wwc13 final be...</td>\n",
       "      <td>watch video highlights wwc13 final australia w...</td>\n",
       "    </tr>\n",
       "    <tr>\n",
       "      <th>3</th>\n",
       "      <td>'RT @chelscanlan: At Nitro Circus at #AlbertPa...</td>\n",
       "      <td>rt chelscanlan nitro circus albertpark theymak...</td>\n",
       "    </tr>\n",
       "    <tr>\n",
       "      <th>4</th>\n",
       "      <td>'@cricketfox Always a good thing. Thanks for t...</td>\n",
       "      <td>cricketfox always good thing thanks feedback</td>\n",
       "    </tr>\n",
       "  </tbody>\n",
       "</table>\n",
       "</div>"
      ],
      "text/plain": [
       "                                           TweetText  \\\n",
       "0  '#SecKerry: The value of the @StateDept and @U...   \n",
       "1                            '@rraina1481 I fear so'   \n",
       "2  'Watch video highlights of the #wwc13 final be...   \n",
       "3  'RT @chelscanlan: At Nitro Circus at #AlbertPa...   \n",
       "4  '@cricketfox Always a good thing. Thanks for t...   \n",
       "\n",
       "                                       FilteredTweet  \n",
       "0  seckerry value statedept usaid measured dollar...  \n",
       "1                                    rraina1481 fear  \n",
       "2  watch video highlights wwc13 final australia w...  \n",
       "3  rt chelscanlan nitro circus albertpark theymak...  \n",
       "4       cricketfox always good thing thanks feedback  "
      ]
     },
     "execution_count": 153,
     "metadata": {},
     "output_type": "execute_result"
    }
   ],
   "source": [
    "\n",
    "train['FilteredTweet'] = train['cleaned_tweet'].apply(TweetStopwordRemover().remove_stopwords)\n",
    "train[['TweetText', 'FilteredTweet']].head()"
   ]
  },
  {
   "cell_type": "markdown",
   "metadata": {},
   "source": [
    "## Stemming or Lemmatization"
   ]
  },
  {
   "cell_type": "code",
   "execution_count": 154,
   "metadata": {},
   "outputs": [],
   "source": [
    "class TweetStemmer:\n",
    "  def fit(self, X, y=None):\n",
    "        return self  \n",
    "\n",
    "  def transform(self, X):\n",
    "        return [self._stem(tweet) for tweet in X]\n",
    "\n",
    "  def _stem(self, tweet):\n",
    "        stemmed_tweet = self.stem_tweet(tweet)\n",
    "        return stemmed_tweet\n",
    "  def stem_tweet(self, text):\n",
    "    text = text.lower()\n",
    "    text = \"\".join([char for char in text if char.isalnum() or char == \" \"]) \n",
    "    stemmer = PorterStemmer()  \n",
    "    words = [stemmer.stem(w) for w in text.split() if w not in stop_words] \n",
    "    return \" \".join(words)"
   ]
  },
  {
   "cell_type": "code",
   "execution_count": 155,
   "metadata": {},
   "outputs": [
    {
     "data": {
      "text/html": [
       "<div>\n",
       "<style scoped>\n",
       "    .dataframe tbody tr th:only-of-type {\n",
       "        vertical-align: middle;\n",
       "    }\n",
       "\n",
       "    .dataframe tbody tr th {\n",
       "        vertical-align: top;\n",
       "    }\n",
       "\n",
       "    .dataframe thead th {\n",
       "        text-align: right;\n",
       "    }\n",
       "</style>\n",
       "<table border=\"1\" class=\"dataframe\">\n",
       "  <thead>\n",
       "    <tr style=\"text-align: right;\">\n",
       "      <th></th>\n",
       "      <th>TweetText</th>\n",
       "      <th>StemmedTweet</th>\n",
       "    </tr>\n",
       "  </thead>\n",
       "  <tbody>\n",
       "    <tr>\n",
       "      <th>0</th>\n",
       "      <td>'#SecKerry: The value of the @StateDept and @U...</td>\n",
       "      <td>seckerri valu statedept usaid measur dollar te...</td>\n",
       "    </tr>\n",
       "    <tr>\n",
       "      <th>1</th>\n",
       "      <td>'@rraina1481 I fear so'</td>\n",
       "      <td>rraina1481 fear</td>\n",
       "    </tr>\n",
       "    <tr>\n",
       "      <th>2</th>\n",
       "      <td>'Watch video highlights of the #wwc13 final be...</td>\n",
       "      <td>watch video highlight wwc13 final australia we...</td>\n",
       "    </tr>\n",
       "    <tr>\n",
       "      <th>3</th>\n",
       "      <td>'RT @chelscanlan: At Nitro Circus at #AlbertPa...</td>\n",
       "      <td>rt chelscanlan nitro circu albertpark theymake...</td>\n",
       "    </tr>\n",
       "    <tr>\n",
       "      <th>4</th>\n",
       "      <td>'@cricketfox Always a good thing. Thanks for t...</td>\n",
       "      <td>cricketfox alway good thing thank feedback</td>\n",
       "    </tr>\n",
       "  </tbody>\n",
       "</table>\n",
       "</div>"
      ],
      "text/plain": [
       "                                           TweetText  \\\n",
       "0  '#SecKerry: The value of the @StateDept and @U...   \n",
       "1                            '@rraina1481 I fear so'   \n",
       "2  'Watch video highlights of the #wwc13 final be...   \n",
       "3  'RT @chelscanlan: At Nitro Circus at #AlbertPa...   \n",
       "4  '@cricketfox Always a good thing. Thanks for t...   \n",
       "\n",
       "                                        StemmedTweet  \n",
       "0  seckerri valu statedept usaid measur dollar te...  \n",
       "1                                    rraina1481 fear  \n",
       "2  watch video highlight wwc13 final australia we...  \n",
       "3  rt chelscanlan nitro circu albertpark theymake...  \n",
       "4         cricketfox alway good thing thank feedback  "
      ]
     },
     "execution_count": 155,
     "metadata": {},
     "output_type": "execute_result"
    }
   ],
   "source": [
    "train['StemmedTweet'] = train['cleaned_tweet'].apply(TweetStemmer().stem_tweet)\n",
    "train[['TweetText', 'StemmedTweet']].head()"
   ]
  },
  {
   "cell_type": "markdown",
   "metadata": {},
   "source": [
    "## creating a  model"
   ]
  },
  {
   "cell_type": "code",
   "execution_count": 156,
   "metadata": {},
   "outputs": [],
   "source": [
    "X_train, X_test, y_train, y_test = train_test_split(train['StemmedTweet'], train['Label'], test_size=0.2, random_state=42)"
   ]
  },
  {
   "cell_type": "code",
   "execution_count": 157,
   "metadata": {},
   "outputs": [],
   "source": [
    "class Vectorizer:\n",
    "    def __init__(self, max_features=5000):\n",
    "        self.vectorizer = TfidfVectorizer(max_features=max_features)\n",
    "\n",
    "    def fit(self, X, y=None):\n",
    "        self.vectorizer.fit(X)\n",
    "        return self\n",
    "\n",
    "    def transform(self, X):\n",
    "        return self.vectorizer.transform(X)"
   ]
  },
  {
   "cell_type": "code",
   "execution_count": 158,
   "metadata": {},
   "outputs": [],
   "source": [
    "pipeline = Pipeline([\n",
    "    ('TweetCleaner', TweetCleaner()),\n",
    "    ('TweetStopwordRemover', TweetStopwordRemover()),\n",
    "    ('TweetStemmer', TweetStemmer()),\n",
    "    ('vectorizer', Vectorizer())\n",
    "])"
   ]
  },
  {
   "cell_type": "markdown",
   "metadata": {},
   "source": [
    "## algorithm Logistic Regression"
   ]
  },
  {
   "cell_type": "code",
   "execution_count": 159,
   "metadata": {},
   "outputs": [],
   "source": [
    "X_train = pipeline.fit_transform(X_train)\n",
    "X_test = pipeline.transform(X_test)"
   ]
  },
  {
   "cell_type": "code",
   "execution_count": 160,
   "metadata": {},
   "outputs": [
    {
     "name": "stderr",
     "output_type": "stream",
     "text": [
      "c:\\Users\\Moussa\\Anaconda3\\lib\\site-packages\\sklearn\\linear_model\\_logistic.py:818: ConvergenceWarning: lbfgs failed to converge (status=1):\n",
      "STOP: TOTAL NO. of ITERATIONS REACHED LIMIT.\n",
      "\n",
      "Increase the number of iterations (max_iter) or scale the data as shown in:\n",
      "    https://scikit-learn.org/stable/modules/preprocessing.html\n",
      "Please also refer to the documentation for alternative solver options:\n",
      "    https://scikit-learn.org/stable/modules/linear_model.html#logistic-regression\n",
      "  extra_warning_msg=_LOGISTIC_SOLVER_CONVERGENCE_MSG,\n",
      "c:\\Users\\Moussa\\Anaconda3\\lib\\site-packages\\sklearn\\linear_model\\_logistic.py:818: ConvergenceWarning: lbfgs failed to converge (status=1):\n",
      "STOP: TOTAL NO. of ITERATIONS REACHED LIMIT.\n",
      "\n",
      "Increase the number of iterations (max_iter) or scale the data as shown in:\n",
      "    https://scikit-learn.org/stable/modules/preprocessing.html\n",
      "Please also refer to the documentation for alternative solver options:\n",
      "    https://scikit-learn.org/stable/modules/linear_model.html#logistic-regression\n",
      "  extra_warning_msg=_LOGISTIC_SOLVER_CONVERGENCE_MSG,\n",
      "c:\\Users\\Moussa\\Anaconda3\\lib\\site-packages\\sklearn\\linear_model\\_logistic.py:818: ConvergenceWarning: lbfgs failed to converge (status=1):\n",
      "STOP: TOTAL NO. of ITERATIONS REACHED LIMIT.\n",
      "\n",
      "Increase the number of iterations (max_iter) or scale the data as shown in:\n",
      "    https://scikit-learn.org/stable/modules/preprocessing.html\n",
      "Please also refer to the documentation for alternative solver options:\n",
      "    https://scikit-learn.org/stable/modules/linear_model.html#logistic-regression\n",
      "  extra_warning_msg=_LOGISTIC_SOLVER_CONVERGENCE_MSG,\n",
      "c:\\Users\\Moussa\\Anaconda3\\lib\\site-packages\\sklearn\\model_selection\\_validation.py:372: FitFailedWarning: \n",
      "21 fits failed out of a total of 42.\n",
      "The score on these train-test partitions for these parameters will be set to nan.\n",
      "If these failures are not expected, you can try to debug them by setting error_score='raise'.\n",
      "\n",
      "Below are more details about the failures:\n",
      "--------------------------------------------------------------------------------\n",
      "21 fits failed with the following error:\n",
      "Traceback (most recent call last):\n",
      "  File \"c:\\Users\\Moussa\\Anaconda3\\lib\\site-packages\\sklearn\\model_selection\\_validation.py\", line 680, in _fit_and_score\n",
      "    estimator.fit(X_train, y_train, **fit_params)\n",
      "  File \"c:\\Users\\Moussa\\Anaconda3\\lib\\site-packages\\sklearn\\linear_model\\_logistic.py\", line 1461, in fit\n",
      "    solver = _check_solver(self.solver, self.penalty, self.dual)\n",
      "  File \"c:\\Users\\Moussa\\Anaconda3\\lib\\site-packages\\sklearn\\linear_model\\_logistic.py\", line 449, in _check_solver\n",
      "    % (solver, penalty)\n",
      "ValueError: Solver lbfgs supports only 'l2' or 'none' penalties, got l1 penalty.\n",
      "\n",
      "  warnings.warn(some_fits_failed_message, FitFailedWarning)\n",
      "c:\\Users\\Moussa\\Anaconda3\\lib\\site-packages\\sklearn\\model_selection\\_search.py:972: UserWarning: One or more of the test scores are non-finite: [       nan 0.5091954         nan 0.5091954         nan 0.7789272\n",
      "        nan 0.92183908        nan 0.93812261        nan 0.94137931\n",
      "        nan 0.94099617]\n",
      "  category=UserWarning,\n",
      "c:\\Users\\Moussa\\Anaconda3\\lib\\site-packages\\sklearn\\model_selection\\_search.py:972: UserWarning: One or more of the train scores are non-finite: [       nan 0.5091954         nan 0.5091954         nan 0.81388889\n",
      "        nan 0.95287356        nan 0.98036398        nan 0.99511494\n",
      "        nan 0.99578544]\n",
      "  category=UserWarning,\n"
     ]
    },
    {
     "name": "stdout",
     "output_type": "stream",
     "text": [
      "Best parameters:  {'C': 10, 'penalty': 'l2'}\n",
      "Best cross-validation score: 0.94137931\n"
     ]
    }
   ],
   "source": [
    "logistic_regression_model = LogisticRegression()\n",
    "param_grid = [\n",
    "    {'C': [0.0001,0.001, 0.01, 0.1, 1, 10, 100], 'penalty': ['l1', 'l2']}\n",
    "]\n",
    "gridSearch = GridSearchCV(logistic_regression_model, param_grid, cv=3, scoring='accuracy', return_train_score=True)\n",
    "gridSearch.fit(X_train, y_train)\n",
    "y_pred_log = gridSearch.predict(X_test)\n",
    "\n",
    "print(\"Best parameters: \", gridSearch.best_params_)\n",
    "print(\"Best cross-validation score: {:.8f}\".format(gridSearch.best_score_))"
   ]
  },
  {
   "cell_type": "code",
   "execution_count": 161,
   "metadata": {},
   "outputs": [
    {
     "name": "stdout",
     "output_type": "stream",
     "text": [
      "              precision    recall  f1-score   support\n",
      "\n",
      "    Politics       0.95      0.95      0.95       638\n",
      "      Sports       0.95      0.95      0.95       667\n",
      "\n",
      "    accuracy                           0.95      1305\n",
      "   macro avg       0.95      0.95      0.95      1305\n",
      "weighted avg       0.95      0.95      0.95      1305\n",
      "\n"
     ]
    }
   ],
   "source": [
    "from sklearn.metrics import classification_report\n",
    "print(classification_report(y_test,y_pred_log))"
   ]
  },
  {
   "cell_type": "code",
   "execution_count": 162,
   "metadata": {},
   "outputs": [
    {
     "data": {
      "image/png": "[encoded data removed]",
      "text/plain": [
       "<Figure size 576x432 with 2 Axes>"
      ]
     },
     "metadata": {
      "needs_background": "light"
     },
     "output_type": "display_data"
    }
   ],
   "source": [
    "from sklearn.metrics import confusion_matrix\n",
    "import seaborn as sns\n",
    "\n",
    "\n",
    "import matplotlib.pyplot as plt\n",
    "cm = confusion_matrix(y_test, y_pred_log)\n",
    "plt.figure(figsize=(8, 6))\n",
    "sns.heatmap(cm, annot=True, cmap='Blues', fmt='g')\n",
    "plt.xlabel('Predicted')\n",
    "plt.ylabel('Actual')\n",
    "plt.title('Confusion Matrix')\n",
    "plt.show()\n",
    "\n"
   ]
  },
  {
   "cell_type": "code",
   "execution_count": 163,
   "metadata": {},
   "outputs": [
    {
     "data": {
      "image/png": "[encoded data removed]",
      "text/plain": [
       "<Figure size 720x432 with 1 Axes>"
      ]
     },
     "metadata": {
      "needs_background": "light"
     },
     "output_type": "display_data"
    }
   ],
   "source": [
    "import matplotlib.pyplot as plt\n",
    "import numpy as np\n",
    "\n",
    "def plot_grid_search_cv_results(gridSearch):\n",
    "    mean_train_scores = gridSearch.cv_results_['mean_train_score']\n",
    "    mean_test_scores = gridSearch.cv_results_['mean_test_score']\n",
    "    params = [str(x) for x in gridSearch.cv_results_['params']]\n",
    "\n",
    "    plt.figure(figsize=(10, 6))\n",
    "\n",
    "    plt.plot(range(len(params)), mean_train_scores, marker='o', label='Training score')\n",
    "    plt.plot(range(len(params)), mean_test_scores, marker='o', label='Validation score')\n",
    "\n",
    "    plt.xticks(np.arange(len(params)), params, rotation=90)\n",
    "    plt.xlabel('Parameter combination')\n",
    "    plt.ylabel('Score')\n",
    "    plt.title('Training and validation scores for different parameter combinations')\n",
    "    plt.legend()\n",
    "\n",
    "    plt.tight_layout()\n",
    "    plt.show()\n",
    "\n",
    "plot_grid_search_cv_results(gridSearch)"
   ]
  },
  {
   "cell_type": "markdown",
   "metadata": {},
   "source": [
    "## algorithm Naive Bayes"
   ]
  },
  {
   "cell_type": "code",
   "execution_count": 164,
   "metadata": {},
   "outputs": [
    {
     "name": "stdout",
     "output_type": "stream",
     "text": [
      "Best parameters:  {'alpha': 0.1}\n",
      "Best cross-validation score: 0.95134100\n"
     ]
    }
   ],
   "source": [
    "from sklearn.naive_bayes import MultinomialNB\n",
    "from sklearn.model_selection import GridSearchCV\n",
    "\n",
    "multinomial_nb_model = MultinomialNB()\n",
    "param_grid = [\n",
    "    {'alpha': [0.0001, 0.001, 0.01, 0.1, 1, 10, 100]}\n",
    "]\n",
    "Naivebayes = GridSearchCV(multinomial_nb_model, param_grid, cv=3, scoring='accuracy', return_train_score=True)\n",
    "Naivebayes.fit(X_train, y_train)\n",
    "y_pred_M = Naivebayes.predict(X_test)\n",
    "\n",
    "print(\"Best parameters: \", Naivebayes.best_params_)\n",
    "print(\"Best cross-validation score: {:.8f}\".format(Naivebayes.best_score_))"
   ]
  },
  {
   "cell_type": "code",
   "execution_count": 165,
   "metadata": {},
   "outputs": [
    {
     "name": "stdout",
     "output_type": "stream",
     "text": [
      "              precision    recall  f1-score   support\n",
      "\n",
      "    Politics       0.95      0.95      0.95       638\n",
      "      Sports       0.96      0.96      0.96       667\n",
      "\n",
      "    accuracy                           0.95      1305\n",
      "   macro avg       0.95      0.95      0.95      1305\n",
      "weighted avg       0.95      0.95      0.95      1305\n",
      "\n"
     ]
    }
   ],
   "source": [
    "from sklearn.metrics import classification_report\n",
    "print(classification_report(y_test,y_pred_M))"
   ]
  },
  {
   "cell_type": "code",
   "execution_count": 166,
   "metadata": {},
   "outputs": [
    {
     "data": {
      "image/png": "[encoded data removed]",
      "text/plain": [
       "<Figure size 576x432 with 2 Axes>"
      ]
     },
     "metadata": {
      "needs_background": "light"
     },
     "output_type": "display_data"
    }
   ],
   "source": [
    "from sklearn.metrics import confusion_matrix\n",
    "import seaborn as sns\n",
    "\n",
    "\n",
    "import matplotlib.pyplot as plt\n",
    "cm = confusion_matrix(y_test, y_pred_M)\n",
    "plt.figure(figsize=(8, 6))\n",
    "sns.heatmap(cm, annot=True, cmap='Blues', fmt='g')\n",
    "plt.xlabel('Predicted')\n",
    "plt.ylabel('Actual')\n",
    "plt.title('Confusion Matrix')\n",
    "plt.show()\n",
    "\n"
   ]
  },
  {
   "cell_type": "code",
   "execution_count": 167,
   "metadata": {},
   "outputs": [
    {
     "data": {
      "image/png": "[encoded data removed]",
      "text/plain": [
       "<Figure size 720x432 with 1 Axes>"
      ]
     },
     "metadata": {
      "needs_background": "light"
     },
     "output_type": "display_data"
    }
   ],
   "source": [
    "import matplotlib.pyplot as plt\n",
    "import numpy as np\n",
    "\n",
    "def plot_grid_search_cv_results(gridSearch):\n",
    "    mean_train_scores = gridSearch.cv_results_['mean_train_score']\n",
    "    mean_test_scores = gridSearch.cv_results_['mean_test_score']\n",
    "    params = [str(x) for x in gridSearch.cv_results_['params']]\n",
    "\n",
    "    plt.figure(figsize=(10, 6))\n",
    "\n",
    "    plt.plot(range(len(params)), mean_train_scores, marker='o', label='Training score')\n",
    "    plt.plot(range(len(params)), mean_test_scores, marker='o', label='Validation score')\n",
    "\n",
    "    plt.xticks(np.arange(len(params)), params, rotation=90)\n",
    "    plt.xlabel('Parameter combination')\n",
    "    plt.ylabel('Score')\n",
    "    plt.title('Training and validation scores for different parameter combinations')\n",
    "    plt.legend()\n",
    "\n",
    "    plt.tight_layout()\n",
    "    plt.show()\n",
    "\n",
    "plot_grid_search_cv_results(Naivebayes)"
   ]
  },
  {
   "cell_type": "markdown",
   "metadata": {},
   "source": [
    "## Algorithem SVM"
   ]
  },
  {
   "cell_type": "code",
   "execution_count": 168,
   "metadata": {},
   "outputs": [
    {
     "name": "stdout",
     "output_type": "stream",
     "text": [
      "Best parameters:  {'C': 10, 'kernel': 'rbf'}\n",
      "Best cross-validation score: 0.94789272\n"
     ]
    }
   ],
   "source": [
    "from sklearn.svm import SVC\n",
    "from sklearn.model_selection import GridSearchCV\n",
    "\n",
    "svm_model = SVC()\n",
    "param_grid = [\n",
    "    {'C': [0.0001, 0.001, 0.01, 0.1, 1, 10, 100], 'kernel': ['linear', 'rbf', 'poly', 'sigmoid']}\n",
    "]\n",
    "SVM_mod = GridSearchCV(svm_model, param_grid, cv=3, scoring='accuracy', return_train_score=True)\n",
    "SVM_mod.fit(X_train, y_train)\n",
    "y_pred = SVM_mod.predict(X_test)\n",
    "\n",
    "print(\"Best parameters: \", SVM_mod.best_params_)\n",
    "print(\"Best cross-validation score: {:.8f}\".format(SVM_mod.best_score_))\n"
   ]
  },
  {
   "cell_type": "code",
   "execution_count": 169,
   "metadata": {},
   "outputs": [
    {
     "name": "stdout",
     "output_type": "stream",
     "text": [
      "              precision    recall  f1-score   support\n",
      "\n",
      "    Politics       0.95      0.96      0.96       638\n",
      "      Sports       0.96      0.96      0.96       667\n",
      "\n",
      "    accuracy                           0.96      1305\n",
      "   macro avg       0.96      0.96      0.96      1305\n",
      "weighted avg       0.96      0.96      0.96      1305\n",
      "\n"
     ]
    }
   ],
   "source": [
    "from sklearn.metrics import classification_report\n",
    "print(classification_report(y_test,y_pred))"
   ]
  },
  {
   "cell_type": "code",
   "execution_count": 170,
   "metadata": {},
   "outputs": [
    {
     "data": {
      "image/png": "[encoded data removed]",
      "text/plain": [
       "<Figure size 576x432 with 2 Axes>"
      ]
     },
     "metadata": {
      "needs_background": "light"
     },
     "output_type": "display_data"
    }
   ],
   "source": [
    "from sklearn.metrics import confusion_matrix\n",
    "import seaborn as sns\n",
    "\n",
    "\n",
    "import matplotlib.pyplot as plt\n",
    "\n",
    "cm = confusion_matrix(y_test, y_pred)\n",
    "\n",
    "plt.figure(figsize=(8, 6))\n",
    "sns.heatmap(cm, annot=True, cmap='Blues', fmt='g')\n",
    "plt.xlabel('Predicted')\n",
    "plt.ylabel('Actual')\n",
    "plt.title('Confusion Matrix')\n",
    "plt.show()\n",
    "\n"
   ]
  },
  {
   "cell_type": "code",
   "execution_count": 171,
   "metadata": {},
   "outputs": [
    {
     "data": {
      "image/png": "[encoded data removed]",
      "text/plain": [
       "<Figure size 720x432 with 1 Axes>"
      ]
     },
     "metadata": {
      "needs_background": "light"
     },
     "output_type": "display_data"
    }
   ],
   "source": [
    "import matplotlib.pyplot as plt\n",
    "import numpy as np\n",
    "\n",
    "def plot_grid_search_cv_results(gridSearch):\n",
    "    mean_train_scores = gridSearch.cv_results_['mean_train_score']\n",
    "    mean_test_scores = gridSearch.cv_results_['mean_test_score']\n",
    "    params = [str(x) for x in gridSearch.cv_results_['params']]\n",
    "\n",
    "    plt.figure(figsize=(10, 6))\n",
    "\n",
    "    plt.plot(range(len(params)), mean_train_scores, marker='o', label='Training score')\n",
    "    plt.plot(range(len(params)), mean_test_scores, marker='o', label='Validation score')\n",
    "\n",
    "    plt.xticks(np.arange(len(params)), params, rotation=90)\n",
    "    plt.xlabel('Parameter combination')\n",
    "    plt.ylabel('Score')\n",
    "    plt.title('Training and validation scores for different parameter combinations')\n",
    "    plt.legend()\n",
    "\n",
    "    plt.tight_layout()\n",
    "    plt.show()\n",
    "\n",
    "plot_grid_search_cv_results(SVM_mod)"
   ]
  },
  {
   "cell_type": "markdown",
   "metadata": {},
   "source": [
    "## comparing the models\n",
    "$$\\begin{array}{|c|c|}\n",
    "\\hline\n",
    "Model & Accuracy \\\\\n",
    "\\hline\n",
    "LogisticRegression & 0.94137931\\\\\n",
    "MultinomialNB & 0.95134100 \\\\\n",
    "SVC & 0.94789272 \\\\\n",
    "\n",
    "\\hline\n",
    "\\end{array}$$"
   ]
  },
  {
   "cell_type": "code",
   "execution_count": 172,
   "metadata": {},
   "outputs": [
    {
     "data": {
      "text/html": [
       "<div>\n",
       "<style scoped>\n",
       "    .dataframe tbody tr th:only-of-type {\n",
       "        vertical-align: middle;\n",
       "    }\n",
       "\n",
       "    .dataframe tbody tr th {\n",
       "        vertical-align: top;\n",
       "    }\n",
       "\n",
       "    .dataframe thead th {\n",
       "        text-align: right;\n",
       "    }\n",
       "</style>\n",
       "<table border=\"1\" class=\"dataframe\">\n",
       "  <thead>\n",
       "    <tr style=\"text-align: right;\">\n",
       "      <th></th>\n",
       "      <th>TweetId</th>\n",
       "      <th>TweetText</th>\n",
       "    </tr>\n",
       "  </thead>\n",
       "  <tbody>\n",
       "    <tr>\n",
       "      <th>0</th>\n",
       "      <td>306486520121012224</td>\n",
       "      <td>'28. The home side threaten again through Maso...</td>\n",
       "    </tr>\n",
       "    <tr>\n",
       "      <th>1</th>\n",
       "      <td>286353402605228032</td>\n",
       "      <td>'@mrbrown @aulia Thx for asking. See http://t....</td>\n",
       "    </tr>\n",
       "    <tr>\n",
       "      <th>2</th>\n",
       "      <td>289531046037438464</td>\n",
       "      <td>'@Sochi2014 construction along the shores of t...</td>\n",
       "    </tr>\n",
       "    <tr>\n",
       "      <th>3</th>\n",
       "      <td>306451661403062273</td>\n",
       "      <td>'#SecKerry\\u2019s remarks after meeting with F...</td>\n",
       "    </tr>\n",
       "    <tr>\n",
       "      <th>4</th>\n",
       "      <td>297941800658812928</td>\n",
       "      <td>'The #IPLauction has begun. Ricky Ponting is t...</td>\n",
       "    </tr>\n",
       "    <tr>\n",
       "      <th>...</th>\n",
       "      <td>...</td>\n",
       "      <td>...</td>\n",
       "    </tr>\n",
       "    <tr>\n",
       "      <th>2605</th>\n",
       "      <td>282023761044189184</td>\n",
       "      <td>'Qualifier 1 and Eliminator games will be play...</td>\n",
       "    </tr>\n",
       "    <tr>\n",
       "      <th>2606</th>\n",
       "      <td>303879735006601216</td>\n",
       "      <td>@reesedward Hi Edward, it's not a #peacekeepin...</td>\n",
       "    </tr>\n",
       "    <tr>\n",
       "      <th>2607</th>\n",
       "      <td>297956846046703616</td>\n",
       "      <td>'Perera was @SunRisersIPL first #IPL purchase ...</td>\n",
       "    </tr>\n",
       "    <tr>\n",
       "      <th>2608</th>\n",
       "      <td>304265049537658880</td>\n",
       "      <td>'#SecKerry: Thanks to Senator @TimKaine, @RepR...</td>\n",
       "    </tr>\n",
       "    <tr>\n",
       "      <th>2609</th>\n",
       "      <td>306430391928115200</td>\n",
       "      <td>Here's a picture from our official Pinterest a...</td>\n",
       "    </tr>\n",
       "  </tbody>\n",
       "</table>\n",
       "<p>2610 rows × 2 columns</p>\n",
       "</div>"
      ],
      "text/plain": [
       "                 TweetId                                          TweetText\n",
       "0     306486520121012224  '28. The home side threaten again through Maso...\n",
       "1     286353402605228032  '@mrbrown @aulia Thx for asking. See http://t....\n",
       "2     289531046037438464  '@Sochi2014 construction along the shores of t...\n",
       "3     306451661403062273  '#SecKerry\\u2019s remarks after meeting with F...\n",
       "4     297941800658812928  'The #IPLauction has begun. Ricky Ponting is t...\n",
       "...                  ...                                                ...\n",
       "2605  282023761044189184  'Qualifier 1 and Eliminator games will be play...\n",
       "2606  303879735006601216  @reesedward Hi Edward, it's not a #peacekeepin...\n",
       "2607  297956846046703616  'Perera was @SunRisersIPL first #IPL purchase ...\n",
       "2608  304265049537658880  '#SecKerry: Thanks to Senator @TimKaine, @RepR...\n",
       "2609  306430391928115200  Here's a picture from our official Pinterest a...\n",
       "\n",
       "[2610 rows x 2 columns]"
      ]
     },
     "execution_count": 172,
     "metadata": {},
     "output_type": "execute_result"
    }
   ],
   "source": [
    "test = pd.read_csv('C:/Users/Moussa/Desktop/deeptweets/test.csv')\n",
    "test\n"
   ]
  },
  {
   "cell_type": "code",
   "execution_count": 173,
   "metadata": {},
   "outputs": [],
   "source": [
    "test_sub = pipeline.transform(test['TweetText'])"
   ]
  },
  {
   "cell_type": "code",
   "execution_count": 174,
   "metadata": {},
   "outputs": [],
   "source": [
    "tst=Naivebayes.predict(test_sub)"
   ]
  },
  {
   "cell_type": "code",
   "execution_count": 175,
   "metadata": {},
   "outputs": [],
   "source": [
    "test['Label']=tst"
   ]
  },
  {
   "cell_type": "code",
   "execution_count": 176,
   "metadata": {},
   "outputs": [
    {
     "data": {
      "text/html": [
       "<div>\n",
       "<style scoped>\n",
       "    .dataframe tbody tr th:only-of-type {\n",
       "        vertical-align: middle;\n",
       "    }\n",
       "\n",
       "    .dataframe tbody tr th {\n",
       "        vertical-align: top;\n",
       "    }\n",
       "\n",
       "    .dataframe thead th {\n",
       "        text-align: right;\n",
       "    }\n",
       "</style>\n",
       "<table border=\"1\" class=\"dataframe\">\n",
       "  <thead>\n",
       "    <tr style=\"text-align: right;\">\n",
       "      <th></th>\n",
       "      <th>TweetId</th>\n",
       "      <th>TweetText</th>\n",
       "      <th>Label</th>\n",
       "    </tr>\n",
       "  </thead>\n",
       "  <tbody>\n",
       "    <tr>\n",
       "      <th>0</th>\n",
       "      <td>306486520121012224</td>\n",
       "      <td>'28. The home side threaten again through Maso...</td>\n",
       "      <td>Sports</td>\n",
       "    </tr>\n",
       "    <tr>\n",
       "      <th>1</th>\n",
       "      <td>286353402605228032</td>\n",
       "      <td>'@mrbrown @aulia Thx for asking. See http://t....</td>\n",
       "      <td>Politics</td>\n",
       "    </tr>\n",
       "    <tr>\n",
       "      <th>2</th>\n",
       "      <td>289531046037438464</td>\n",
       "      <td>'@Sochi2014 construction along the shores of t...</td>\n",
       "      <td>Politics</td>\n",
       "    </tr>\n",
       "    <tr>\n",
       "      <th>3</th>\n",
       "      <td>306451661403062273</td>\n",
       "      <td>'#SecKerry\\u2019s remarks after meeting with F...</td>\n",
       "      <td>Politics</td>\n",
       "    </tr>\n",
       "    <tr>\n",
       "      <th>4</th>\n",
       "      <td>297941800658812928</td>\n",
       "      <td>'The #IPLauction has begun. Ricky Ponting is t...</td>\n",
       "      <td>Sports</td>\n",
       "    </tr>\n",
       "    <tr>\n",
       "      <th>...</th>\n",
       "      <td>...</td>\n",
       "      <td>...</td>\n",
       "      <td>...</td>\n",
       "    </tr>\n",
       "    <tr>\n",
       "      <th>2605</th>\n",
       "      <td>282023761044189184</td>\n",
       "      <td>'Qualifier 1 and Eliminator games will be play...</td>\n",
       "      <td>Politics</td>\n",
       "    </tr>\n",
       "    <tr>\n",
       "      <th>2606</th>\n",
       "      <td>303879735006601216</td>\n",
       "      <td>@reesedward Hi Edward, it's not a #peacekeepin...</td>\n",
       "      <td>Politics</td>\n",
       "    </tr>\n",
       "    <tr>\n",
       "      <th>2607</th>\n",
       "      <td>297956846046703616</td>\n",
       "      <td>'Perera was @SunRisersIPL first #IPL purchase ...</td>\n",
       "      <td>Sports</td>\n",
       "    </tr>\n",
       "    <tr>\n",
       "      <th>2608</th>\n",
       "      <td>304265049537658880</td>\n",
       "      <td>'#SecKerry: Thanks to Senator @TimKaine, @RepR...</td>\n",
       "      <td>Politics</td>\n",
       "    </tr>\n",
       "    <tr>\n",
       "      <th>2609</th>\n",
       "      <td>306430391928115200</td>\n",
       "      <td>Here's a picture from our official Pinterest a...</td>\n",
       "      <td>Politics</td>\n",
       "    </tr>\n",
       "  </tbody>\n",
       "</table>\n",
       "<p>2610 rows × 3 columns</p>\n",
       "</div>"
      ],
      "text/plain": [
       "                 TweetId                                          TweetText  \\\n",
       "0     306486520121012224  '28. The home side threaten again through Maso...   \n",
       "1     286353402605228032  '@mrbrown @aulia Thx for asking. See http://t....   \n",
       "2     289531046037438464  '@Sochi2014 construction along the shores of t...   \n",
       "3     306451661403062273  '#SecKerry\\u2019s remarks after meeting with F...   \n",
       "4     297941800658812928  'The #IPLauction has begun. Ricky Ponting is t...   \n",
       "...                  ...                                                ...   \n",
       "2605  282023761044189184  'Qualifier 1 and Eliminator games will be play...   \n",
       "2606  303879735006601216  @reesedward Hi Edward, it's not a #peacekeepin...   \n",
       "2607  297956846046703616  'Perera was @SunRisersIPL first #IPL purchase ...   \n",
       "2608  304265049537658880  '#SecKerry: Thanks to Senator @TimKaine, @RepR...   \n",
       "2609  306430391928115200  Here's a picture from our official Pinterest a...   \n",
       "\n",
       "         Label  \n",
       "0       Sports  \n",
       "1     Politics  \n",
       "2     Politics  \n",
       "3     Politics  \n",
       "4       Sports  \n",
       "...        ...  \n",
       "2605  Politics  \n",
       "2606  Politics  \n",
       "2607    Sports  \n",
       "2608  Politics  \n",
       "2609  Politics  \n",
       "\n",
       "[2610 rows x 3 columns]"
      ]
     },
     "execution_count": 176,
     "metadata": {},
     "output_type": "execute_result"
    }
   ],
   "source": [
    "test"
   ]
  },
  {
   "cell_type": "code",
   "execution_count": 177,
   "metadata": {},
   "outputs": [],
   "source": [
    "test.to_csv('C:/Users/Moussa/Desktop/github/deeptweets/submission.csv')\n"
   ]
  }
 ],
 "metadata": {
  "kernelspec": {
   "display_name": "base",
   "language": "python",
   "name": "python3"
  },
  "language_info": {
   "codemirror_mode": {
    "name": "ipython",
    "version": 3
   },
   "file_extension": ".py",
   "mimetype": "text/x-python",
   "name": "python",
   "nbconvert_exporter": "python",
   "pygments_lexer": "ipython3",
   "version": "3.7.4"
  }
 },
 "nbformat": 4,
 "nbformat_minor": 2
}
